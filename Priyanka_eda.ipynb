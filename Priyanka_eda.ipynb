{
 "cells": [
  {
   "cell_type": "markdown",
   "metadata": {},
   "source": [
    "__1 Project 4 - 44608 Presenting Data Stories with Jupyter.__"
   ]
  },
  {
   "cell_type": "markdown",
   "metadata": {},
   "source": [
    "__2 Author: Priyanka Naskar__ \n",
    "\n",
    "Date: Feb-2-2024\n",
    "\n",
    "Purpose: perform exploratory data analysis and present data stories, demonstrate the associated core competencies and skills associated with Jupyter and exploratory analysis."
   ]
  },
  {
   "cell_type": "markdown",
   "metadata": {},
   "source": [
    "__3 Environment Setup__\n",
    "\n",
    "In this section, we set up the necessary environment for our data analysis, including creating a virtual environment and installing required packages."
   ]
  },
  {
   "cell_type": "markdown",
   "metadata": {},
   "source": [
    "__4 Exploring Iris Dataset: A Data Story__\n",
    "\n",
    "In this notebook, I 'll be exploring the famous Iris dataset. Our goal is to uncover patterns, relationships, and insights within the data and present them in an engaging manner."
   ]
  },
  {
   "cell_type": "markdown",
   "metadata": {},
   "source": [
    "__5 Import Dependencies__\n",
    "\n",
    " In this data set I will import few libraries such as metaplotlib, pandas, seaborn\n"
   ]
  },
  {
   "cell_type": "code",
   "execution_count": null,
   "metadata": {},
   "outputs": [],
   "source": []
  }
 ],
 "metadata": {
  "kernelspec": {
   "display_name": ".venv",
   "language": "python",
   "name": "python3"
  },
  "language_info": {
   "codemirror_mode": {
    "name": "ipython",
    "version": 3
   },
   "file_extension": ".py",
   "mimetype": "text/x-python",
   "name": "python",
   "nbconvert_exporter": "python",
   "pygments_lexer": "ipython3",
   "version": "3.12.1"
  }
 },
 "nbformat": 4,
 "nbformat_minor": 2
}
